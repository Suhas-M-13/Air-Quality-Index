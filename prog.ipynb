{
 "cells": [
  {
   "cell_type": "code",
   "execution_count": 33,
   "metadata": {},
   "outputs": [
    {
     "name": "stdout",
     "output_type": "stream",
     "text": [
      "       co    no   no2     o3   so2  pm2_5   pm10   nh3\n",
      "0  373.84  0.76  6.43  87.98  2.33  14.82  16.36  3.04\n",
      "\n",
      "\n",
      "XGBoost Classifier : \n",
      "\n",
      "\n",
      "\n",
      "\tPredicted AQI Class Using XGB Classifier: [1]\n"
     ]
    }
   ],
   "source": [
    "import pandas as pd\n",
    "import requests\n",
    "# from xgboost import XGBClassifier\n",
    "import joblib\n",
    "\n",
    "\n",
    "gbc = joblib.load('xgboost_model.pkl')  \n",
    "\n",
    "def fetch_real_time_data(api_key, lat, lon):\n",
    "    url = \"http://api.openweathermap.org/data/2.5/air_pollution\"\n",
    "    params = {\n",
    "        \"lat\": lat,\n",
    "        \"lon\": lon,\n",
    "        \"appid\": api_key\n",
    "    }\n",
    "    response = requests.get(url, params=params)\n",
    "    data = response.json()\n",
    "    \n",
    "    if 'list' in data and len(data['list']) > 0:\n",
    "        air_quality_data = data['list'][0]['components']\n",
    "        return air_quality_data\n",
    "    else:\n",
    "        raise ValueError(\"No data available for the specified location\")\n",
    "\n",
    "def fetch_real_time():\n",
    "    api_key = '770f56fec010799b22416015a76a31c5'\n",
    "    lat = 12.9716\n",
    "    lon =  77.5946\n",
    "    real_time_data = fetch_real_time_data(api_key, lat, lon)\n",
    "    return real_time_data\n",
    "\n",
    "real_time_data = fetch_real_time()\n",
    "\n",
    "\n",
    "real_time_df = pd.DataFrame([real_time_data])\n",
    "print(real_time_df)\n",
    "\n",
    "\n",
    "real_time_df['city_encoded'] = 3\n",
    "real_time_df = real_time_df[['co', 'no', 'no2', 'o3', 'so2', 'pm2_5', 'pm10', 'nh3', 'city_encoded']]\n",
    "\n",
    "print(\"\\n\\nXGBoost Classifier : \\n\\n\")\n",
    "\n",
    "\n",
    "joblib.dump(gbc, 'xgboost_model.pkl')\n",
    "\n",
    "\n",
    "gbc_loaded = joblib.load('xgboost_model.pkl')\n",
    "\n",
    "\n",
    "predictiong = gbc.predict(real_time_df)\n",
    "print(\"\\n\\tPredicted AQI Class Using XGB Classifier:\", predictiong)\n"
   ]
  }
 ],
 "metadata": {
  "kernelspec": {
   "display_name": "Python 3",
   "language": "python",
   "name": "python3"
  },
  "language_info": {
   "codemirror_mode": {
    "name": "ipython",
    "version": 3
   },
   "file_extension": ".py",
   "mimetype": "text/x-python",
   "name": "python",
   "nbconvert_exporter": "python",
   "pygments_lexer": "ipython3",
   "version": "3.12.3"
  }
 },
 "nbformat": 4,
 "nbformat_minor": 2
}
